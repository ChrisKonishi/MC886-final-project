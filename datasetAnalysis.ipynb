{
 "cells": [
  {
   "cell_type": "markdown",
   "id": "75332a8c",
   "metadata": {
    "tags": []
   },
   "source": [
    "## Dataset Exploration"
   ]
  },
  {
   "cell_type": "code",
   "execution_count": 2,
   "id": "b401c271",
   "metadata": {},
   "outputs": [],
   "source": [
    "import pandas as pd\n",
    "import os, os.path \n",
    "import matplotlib.pyplot as plt\n",
    "import seaborn as sns\n",
    "from PIL import Image"
   ]
  },
  {
   "cell_type": "markdown",
   "id": "83d5367f",
   "metadata": {},
   "source": [
    "### Basics"
   ]
  },
  {
   "cell_type": "markdown",
   "id": "1f9d33e0",
   "metadata": {},
   "source": [
    "A partir daqui conseguimos ter uma noção do tamanho do dataset como um todo, sabendo suas dimensões e colunas"
   ]
  },
  {
   "cell_type": "code",
   "execution_count": 3,
   "id": "a9a50edb",
   "metadata": {},
   "outputs": [],
   "source": [
    "dirAddress = 'dataset\\garbage_classification'\n",
    "indexFile = dirAddress + \"\\one-indexed-files.txt\""
   ]
  },
  {
   "cell_type": "code",
   "execution_count": 4,
   "id": "4a36d7cf",
   "metadata": {},
   "outputs": [],
   "source": [
    "df = pd.read_csv(indexFile, header=None, names=['img', 'class'], sep='\\s+')"
   ]
  },
  {
   "cell_type": "code",
   "execution_count": 5,
   "id": "7d42b5bb",
   "metadata": {},
   "outputs": [
    {
     "data": {
      "text/html": [
       "<div>\n",
       "<style scoped>\n",
       "    .dataframe tbody tr th:only-of-type {\n",
       "        vertical-align: middle;\n",
       "    }\n",
       "\n",
       "    .dataframe tbody tr th {\n",
       "        vertical-align: top;\n",
       "    }\n",
       "\n",
       "    .dataframe thead th {\n",
       "        text-align: right;\n",
       "    }\n",
       "</style>\n",
       "<table border=\"1\" class=\"dataframe\">\n",
       "  <thead>\n",
       "    <tr style=\"text-align: right;\">\n",
       "      <th></th>\n",
       "      <th>img</th>\n",
       "      <th>class</th>\n",
       "    </tr>\n",
       "  </thead>\n",
       "  <tbody>\n",
       "    <tr>\n",
       "      <th>0</th>\n",
       "      <td>glass1.jpg</td>\n",
       "      <td>1</td>\n",
       "    </tr>\n",
       "    <tr>\n",
       "      <th>1</th>\n",
       "      <td>glass2.jpg</td>\n",
       "      <td>1</td>\n",
       "    </tr>\n",
       "    <tr>\n",
       "      <th>2</th>\n",
       "      <td>glass3.jpg</td>\n",
       "      <td>1</td>\n",
       "    </tr>\n",
       "    <tr>\n",
       "      <th>3</th>\n",
       "      <td>glass4.jpg</td>\n",
       "      <td>1</td>\n",
       "    </tr>\n",
       "    <tr>\n",
       "      <th>4</th>\n",
       "      <td>glass5.jpg</td>\n",
       "      <td>1</td>\n",
       "    </tr>\n",
       "  </tbody>\n",
       "</table>\n",
       "</div>"
      ],
      "text/plain": [
       "          img  class\n",
       "0  glass1.jpg      1\n",
       "1  glass2.jpg      1\n",
       "2  glass3.jpg      1\n",
       "3  glass4.jpg      1\n",
       "4  glass5.jpg      1"
      ]
     },
     "execution_count": 5,
     "metadata": {},
     "output_type": "execute_result"
    }
   ],
   "source": [
    "df.head()"
   ]
  },
  {
   "cell_type": "code",
   "execution_count": 6,
   "id": "e15f4d47",
   "metadata": {},
   "outputs": [
    {
     "data": {
      "text/plain": [
       "(2527, 2)"
      ]
     },
     "execution_count": 6,
     "metadata": {},
     "output_type": "execute_result"
    }
   ],
   "source": [
    "df.shape"
   ]
  },
  {
   "cell_type": "code",
   "execution_count": 7,
   "id": "8e03bfbe",
   "metadata": {},
   "outputs": [
    {
     "name": "stdout",
     "output_type": "stream",
     "text": [
      "<class 'pandas.core.frame.DataFrame'>\n",
      "RangeIndex: 2527 entries, 0 to 2526\n",
      "Data columns (total 2 columns):\n",
      " #   Column  Non-Null Count  Dtype \n",
      "---  ------  --------------  ----- \n",
      " 0   img     2527 non-null   object\n",
      " 1   class   2527 non-null   int64 \n",
      "dtypes: int64(1), object(1)\n",
      "memory usage: 39.6+ KB\n"
     ]
    }
   ],
   "source": [
    "df.info()"
   ]
  },
  {
   "cell_type": "code",
   "execution_count": 8,
   "id": "8c44bf2d",
   "metadata": {},
   "outputs": [
    {
     "name": "stdout",
     "output_type": "stream",
     "text": [
      "img      trash99.jpg\n",
      "class              6\n",
      "dtype: object\n",
      "-----------\n",
      "img      cardboard1.jpg\n",
      "class                 1\n",
      "dtype: object\n"
     ]
    }
   ],
   "source": [
    "print(df.max())\n",
    "print(\"-----------\")\n",
    "print(df.min())\n"
   ]
  },
  {
   "cell_type": "markdown",
   "id": "ec6a19b3",
   "metadata": {},
   "source": [
    "### Histogram"
   ]
  },
  {
   "cell_type": "markdown",
   "id": "8b0157c7",
   "metadata": {},
   "source": [
    "A partir daqui podemos ver a distribuição da quantidade de imagens, no dataset como um todo cara cada classe, mais para frente veremos a distribuição para treinamento, validação e teste também"
   ]
  },
  {
   "cell_type": "code",
   "execution_count": 9,
   "id": "0bc1fa41",
   "metadata": {},
   "outputs": [],
   "source": [
    "def label_class(row):\n",
    "    if row['class'] == 1:\n",
    "        return 'glass'\n",
    "    elif row['class'] == 2:\n",
    "        return 'paper'\n",
    "    elif row['class'] == 3:\n",
    "        return 'cardboard'\n",
    "    elif row['class'] == 4:\n",
    "        return 'plastic'\n",
    "    elif row['class'] == 5:\n",
    "        return 'metal'\n",
    "    else:\n",
    "        return 'thrash'"
   ]
  },
  {
   "cell_type": "code",
   "execution_count": 10,
   "id": "442df870",
   "metadata": {},
   "outputs": [
    {
     "data": {
      "text/plain": [
       "<seaborn.axisgrid.FacetGrid at 0x1558db0b970>"
      ]
     },
     "execution_count": 10,
     "metadata": {},
     "output_type": "execute_result"
    },
    {
     "data": {
      "image/png": "[encoded data removed]",
      "text/plain": [
       "<Figure size 446.75x360 with 1 Axes>"
      ]
     },
     "metadata": {
      "needs_background": "light"
     },
     "output_type": "display_data"
    }
   ],
   "source": [
    "df['label'] = df.apply (lambda row: label_class(row), axis=1)\n",
    "sns.displot(data=df, kind='hist', x=\"class\", hue=\"label\", palette=\"tab10\", legend=True,  bins=6)"
   ]
  },
  {
   "cell_type": "code",
   "execution_count": 12,
   "id": "bd30feb2",
   "metadata": {},
   "outputs": [
    {
     "data": {
      "text/html": [
       "<div>\n",
       "<style scoped>\n",
       "    .dataframe tbody tr th:only-of-type {\n",
       "        vertical-align: middle;\n",
       "    }\n",
       "\n",
       "    .dataframe tbody tr th {\n",
       "        vertical-align: top;\n",
       "    }\n",
       "\n",
       "    .dataframe thead th {\n",
       "        text-align: right;\n",
       "    }\n",
       "</style>\n",
       "<table border=\"1\" class=\"dataframe\">\n",
       "  <thead>\n",
       "    <tr style=\"text-align: right;\">\n",
       "      <th></th>\n",
       "      <th>class</th>\n",
       "    </tr>\n",
       "    <tr>\n",
       "      <th>label</th>\n",
       "      <th></th>\n",
       "    </tr>\n",
       "  </thead>\n",
       "  <tbody>\n",
       "    <tr>\n",
       "      <th>cardboard</th>\n",
       "      <td>403</td>\n",
       "    </tr>\n",
       "    <tr>\n",
       "      <th>glass</th>\n",
       "      <td>501</td>\n",
       "    </tr>\n",
       "    <tr>\n",
       "      <th>metal</th>\n",
       "      <td>410</td>\n",
       "    </tr>\n",
       "    <tr>\n",
       "      <th>paper</th>\n",
       "      <td>594</td>\n",
       "    </tr>\n",
       "    <tr>\n",
       "      <th>plastic</th>\n",
       "      <td>482</td>\n",
       "    </tr>\n",
       "    <tr>\n",
       "      <th>thrash</th>\n",
       "      <td>137</td>\n",
       "    </tr>\n",
       "  </tbody>\n",
       "</table>\n",
       "</div>"
      ],
      "text/plain": [
       "           class\n",
       "label           \n",
       "cardboard    403\n",
       "glass        501\n",
       "metal        410\n",
       "paper        594\n",
       "plastic      482\n",
       "thrash       137"
      ]
     },
     "execution_count": 12,
     "metadata": {},
     "output_type": "execute_result"
    }
   ],
   "source": [
    "df.set_index([\"label\", \"img\"]).count(level=\"label\")"
   ]
  },
  {
   "cell_type": "markdown",
   "id": "7830e222",
   "metadata": {},
   "source": [
    "As imagens para treinamento, validação e teste já vem com um arquivo de indice indicando quais imagens pertencem ao conjunto, à baixo temos uma visualização de como são esses conjuntos e principalmente, podemos ter a noção que será necessário fazer balanceamento entre as classes uma vez que as contagens entre elas divergem consideravelmente"
   ]
  },
  {
   "cell_type": "markdown",
   "id": "d3a71a77",
   "metadata": {},
   "source": [
    "### Training Set"
   ]
  },
  {
   "cell_type": "code",
   "execution_count": 37,
   "id": "5a251442",
   "metadata": {},
   "outputs": [
    {
     "name": "stdout",
     "output_type": "stream",
     "text": [
      "<class 'pandas.core.frame.DataFrame'>\n",
      "RangeIndex: 1768 entries, 0 to 1767\n",
      "Data columns (total 2 columns):\n",
      " #   Column  Non-Null Count  Dtype \n",
      "---  ------  --------------  ----- \n",
      " 0   img     1768 non-null   object\n",
      " 1   class   1768 non-null   int64 \n",
      "dtypes: int64(1), object(1)\n",
      "memory usage: 27.8+ KB\n"
     ]
    }
   ],
   "source": [
    "trainFile = dirAddress + \"\\one-indexed-files-notrash_train.txt\"\n",
    "dfTrain =  pd.read_csv(trainFile, header=None, names=['img', 'class'], sep='\\s+')\n",
    "dfTrain.info()"
   ]
  },
  {
   "cell_type": "code",
   "execution_count": 48,
   "id": "9d8ad616",
   "metadata": {},
   "outputs": [
    {
     "data": {
      "text/plain": [
       "<seaborn.axisgrid.FacetGrid at 0x1a274678df0>"
      ]
     },
     "execution_count": 48,
     "metadata": {},
     "output_type": "execute_result"
    },
    {
     "data": {
      "image/png": "[encoded data removed]",
      "text/plain": [
       "<Figure size 446.75x360 with 1 Axes>"
      ]
     },
     "metadata": {
      "needs_background": "light"
     },
     "output_type": "display_data"
    }
   ],
   "source": [
    "dfTrain['label'] = dfTrain.apply (lambda row: label_class(row), axis=1)\n",
    "hue_order = ['glass', 'paper', 'cardboard', 'plastic', 'metal', 'thrash']\n",
    "sns.displot(data=dfTrain, kind='hist', x=\"class\", hue=\"label\", palette=\"tab10\", hue_order=hue_order, legend=True,  bins=6)"
   ]
  },
  {
   "cell_type": "markdown",
   "id": "4ba1115a",
   "metadata": {},
   "source": [
    "### Validation Set"
   ]
  },
  {
   "cell_type": "code",
   "execution_count": 39,
   "id": "36dcdb88",
   "metadata": {},
   "outputs": [
    {
     "name": "stdout",
     "output_type": "stream",
     "text": [
      "<class 'pandas.core.frame.DataFrame'>\n",
      "RangeIndex: 328 entries, 0 to 327\n",
      "Data columns (total 2 columns):\n",
      " #   Column  Non-Null Count  Dtype \n",
      "---  ------  --------------  ----- \n",
      " 0   img     328 non-null    object\n",
      " 1   class   328 non-null    int64 \n",
      "dtypes: int64(1), object(1)\n",
      "memory usage: 5.2+ KB\n"
     ]
    }
   ],
   "source": [
    "valFile = dirAddress + \"\\one-indexed-files-notrash_val.txt\"\n",
    "dfVal =  pd.read_csv(valFile, header=None, names=['img', 'class'], sep='\\s+')\n",
    "dfVal.info()"
   ]
  },
  {
   "cell_type": "code",
   "execution_count": 49,
   "id": "264afa32",
   "metadata": {},
   "outputs": [
    {
     "data": {
      "text/plain": [
       "<seaborn.axisgrid.FacetGrid at 0x1a275a5e220>"
      ]
     },
     "execution_count": 49,
     "metadata": {},
     "output_type": "execute_result"
    },
    {
     "data": {
      "image/png": "[encoded data removed]",
      "text/plain": [
       "<Figure size 446.75x360 with 1 Axes>"
      ]
     },
     "metadata": {
      "needs_background": "light"
     },
     "output_type": "display_data"
    }
   ],
   "source": [
    "dfVal['label'] = dfVal.apply (lambda row: label_class(row), axis=1)\n",
    "hue_order = ['glass', 'paper', 'cardboard', 'plastic', 'metal', 'thrash']\n",
    "sns.displot(data=dfVal, kind='hist', x=\"class\", hue=\"label\", palette=\"tab10\", hue_order=hue_order, legend=True,  bins=6)"
   ]
  },
  {
   "cell_type": "markdown",
   "id": "0c29e326",
   "metadata": {},
   "source": [
    "### Test Set"
   ]
  },
  {
   "cell_type": "code",
   "execution_count": 50,
   "id": "8eab4660",
   "metadata": {},
   "outputs": [
    {
     "name": "stdout",
     "output_type": "stream",
     "text": [
      "<class 'pandas.core.frame.DataFrame'>\n",
      "RangeIndex: 328 entries, 0 to 327\n",
      "Data columns (total 2 columns):\n",
      " #   Column  Non-Null Count  Dtype \n",
      "---  ------  --------------  ----- \n",
      " 0   img     328 non-null    object\n",
      " 1   class   328 non-null    int64 \n",
      "dtypes: int64(1), object(1)\n",
      "memory usage: 5.2+ KB\n"
     ]
    }
   ],
   "source": [
    "testFile = dirAddress + \"\\one-indexed-files-notrash_test.txt\"\n",
    "dfTest =  pd.read_csv(valFile, header=None, names=['img', 'class'], sep='\\s+')\n",
    "dfTest.info()"
   ]
  },
  {
   "cell_type": "code",
   "execution_count": 52,
   "id": "b0abe512",
   "metadata": {},
   "outputs": [
    {
     "data": {
      "text/plain": [
       "<seaborn.axisgrid.FacetGrid at 0x1a2746b08e0>"
      ]
     },
     "execution_count": 52,
     "metadata": {},
     "output_type": "execute_result"
    },
    {
     "data": {
      "image/png": "[encoded data removed]",
      "text/plain": [
       "<Figure size 446.75x360 with 1 Axes>"
      ]
     },
     "metadata": {
      "needs_background": "light"
     },
     "output_type": "display_data"
    }
   ],
   "source": [
    "dfTest['label'] = dfTest.apply (lambda row: label_class(row), axis=1)\n",
    "hue_order = ['glass', 'paper', 'cardboard', 'plastic', 'metal', 'thrash']\n",
    "sns.displot(data=dfTest, kind='hist', x=\"class\", hue=\"label\", palette=\"tab10\", hue_order=hue_order, legend=True,  bins=6)"
   ]
  }
 ],
 "metadata": {
  "kernelspec": {
   "display_name": "Python 3",
   "language": "python",
   "name": "python3"
  },
  "language_info": {
   "codemirror_mode": {
    "name": "ipython",
    "version": 3
   },
   "file_extension": ".py",
   "mimetype": "text/x-python",
   "name": "python",
   "nbconvert_exporter": "python",
   "pygments_lexer": "ipython3",
   "version": "3.8.8"
  }
 },
 "nbformat": 4,
 "nbformat_minor": 5
}
